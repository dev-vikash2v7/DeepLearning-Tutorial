{
 "cells": [
  {
   "cell_type": "code",
   "execution_count": 3,
   "id": "4bcc3f4a-48cf-44e1-9ade-6d1c46f4ee15",
   "metadata": {},
   "outputs": [],
   "source": [
    "# Input Labels\n",
    "import tensorflow as tf\n",
    "import numpy as np\n",
    "import pandas as pd\n",
    "from matplotlib import pyplot as plt\n",
    "%matplotlib inline"
   ]
  },
  {
   "cell_type": "code",
   "execution_count": 4,
   "id": "8917d2ed",
   "metadata": {},
   "outputs": [
    {
     "data": {
      "text/html": [
       "<div>\n",
       "<style scoped>\n",
       "    .dataframe tbody tr th:only-of-type {\n",
       "        vertical-align: middle;\n",
       "    }\n",
       "\n",
       "    .dataframe tbody tr th {\n",
       "        vertical-align: top;\n",
       "    }\n",
       "\n",
       "    .dataframe thead th {\n",
       "        text-align: right;\n",
       "    }\n",
       "</style>\n",
       "<table border=\"1\" class=\"dataframe\">\n",
       "  <thead>\n",
       "    <tr style=\"text-align: right;\">\n",
       "      <th></th>\n",
       "      <th>area</th>\n",
       "      <th>bedrooms</th>\n",
       "      <th>price</th>\n",
       "    </tr>\n",
       "  </thead>\n",
       "  <tbody>\n",
       "    <tr>\n",
       "      <th>0</th>\n",
       "      <td>1056</td>\n",
       "      <td>2</td>\n",
       "      <td>39.07</td>\n",
       "    </tr>\n",
       "    <tr>\n",
       "      <th>1</th>\n",
       "      <td>2600</td>\n",
       "      <td>4</td>\n",
       "      <td>120.00</td>\n",
       "    </tr>\n",
       "    <tr>\n",
       "      <th>2</th>\n",
       "      <td>1440</td>\n",
       "      <td>3</td>\n",
       "      <td>62.00</td>\n",
       "    </tr>\n",
       "    <tr>\n",
       "      <th>3</th>\n",
       "      <td>1521</td>\n",
       "      <td>3</td>\n",
       "      <td>75.00</td>\n",
       "    </tr>\n",
       "    <tr>\n",
       "      <th>4</th>\n",
       "      <td>1200</td>\n",
       "      <td>2</td>\n",
       "      <td>51.00</td>\n",
       "    </tr>\n",
       "  </tbody>\n",
       "</table>\n",
       "</div>"
      ],
      "text/plain": [
       "   area  bedrooms   price\n",
       "0  1056         2   39.07\n",
       "1  2600         4  120.00\n",
       "2  1440         3   62.00\n",
       "3  1521         3   75.00\n",
       "4  1200         2   51.00"
      ]
     },
     "execution_count": 4,
     "metadata": {},
     "output_type": "execute_result"
    }
   ],
   "source": [
    "df = pd.read_csv('homeprices_banglore.csv')\n",
    "df.head()"
   ]
  },
  {
   "cell_type": "code",
   "execution_count": 5,
   "id": "19df552a",
   "metadata": {},
   "outputs": [
    {
     "data": {
      "text/html": [
       "<div>\n",
       "<style scoped>\n",
       "    .dataframe tbody tr th:only-of-type {\n",
       "        vertical-align: middle;\n",
       "    }\n",
       "\n",
       "    .dataframe tbody tr th {\n",
       "        vertical-align: top;\n",
       "    }\n",
       "\n",
       "    .dataframe thead th {\n",
       "        text-align: right;\n",
       "    }\n",
       "</style>\n",
       "<table border=\"1\" class=\"dataframe\">\n",
       "  <thead>\n",
       "    <tr style=\"text-align: right;\">\n",
       "      <th></th>\n",
       "      <th>area</th>\n",
       "      <th>bedrooms</th>\n",
       "      <th>price</th>\n",
       "    </tr>\n",
       "  </thead>\n",
       "  <tbody>\n",
       "    <tr>\n",
       "      <th>count</th>\n",
       "      <td>20.000000</td>\n",
       "      <td>20.000000</td>\n",
       "      <td>20.000000</td>\n",
       "    </tr>\n",
       "    <tr>\n",
       "      <th>mean</th>\n",
       "      <td>1821.450000</td>\n",
       "      <td>2.900000</td>\n",
       "      <td>78.853500</td>\n",
       "    </tr>\n",
       "    <tr>\n",
       "      <th>std</th>\n",
       "      <td>864.615794</td>\n",
       "      <td>0.967906</td>\n",
       "      <td>43.761901</td>\n",
       "    </tr>\n",
       "    <tr>\n",
       "      <th>min</th>\n",
       "      <td>800.000000</td>\n",
       "      <td>1.000000</td>\n",
       "      <td>32.000000</td>\n",
       "    </tr>\n",
       "    <tr>\n",
       "      <th>25%</th>\n",
       "      <td>1173.750000</td>\n",
       "      <td>2.000000</td>\n",
       "      <td>41.500000</td>\n",
       "    </tr>\n",
       "    <tr>\n",
       "      <th>50%</th>\n",
       "      <td>1480.500000</td>\n",
       "      <td>3.000000</td>\n",
       "      <td>61.000000</td>\n",
       "    </tr>\n",
       "    <tr>\n",
       "      <th>75%</th>\n",
       "      <td>2633.000000</td>\n",
       "      <td>3.250000</td>\n",
       "      <td>106.500000</td>\n",
       "    </tr>\n",
       "    <tr>\n",
       "      <th>max</th>\n",
       "      <td>3700.000000</td>\n",
       "      <td>5.000000</td>\n",
       "      <td>167.000000</td>\n",
       "    </tr>\n",
       "  </tbody>\n",
       "</table>\n",
       "</div>"
      ],
      "text/plain": [
       "              area   bedrooms       price\n",
       "count    20.000000  20.000000   20.000000\n",
       "mean   1821.450000   2.900000   78.853500\n",
       "std     864.615794   0.967906   43.761901\n",
       "min     800.000000   1.000000   32.000000\n",
       "25%    1173.750000   2.000000   41.500000\n",
       "50%    1480.500000   3.000000   61.000000\n",
       "75%    2633.000000   3.250000  106.500000\n",
       "max    3700.000000   5.000000  167.000000"
      ]
     },
     "execution_count": 5,
     "metadata": {},
     "output_type": "execute_result"
    }
   ],
   "source": [
    "df.describe()"
   ]
  },
  {
   "cell_type": "markdown",
   "id": "572a3dc6",
   "metadata": {},
   "source": [
    "# Scaling Variables"
   ]
  },
  {
   "cell_type": "code",
   "execution_count": 6,
   "id": "144a7089",
   "metadata": {},
   "outputs": [],
   "source": [
    "from sklearn.preprocessing import MinMaxScaler\n",
    "\n",
    "msc_x = MinMaxScaler()\n",
    "msc_y = MinMaxScaler()\n",
    "\n",
    "x_scaled =  msc_x.fit_transform(df[['area' , 'bedrooms']])\n",
    "y_scaled = msc_y.fit_transform( df[['price']] )"
   ]
  },
  {
   "cell_type": "code",
   "execution_count": 7,
   "id": "09910a29",
   "metadata": {},
   "outputs": [
    {
     "data": {
      "text/plain": [
       "(array([[0.08827586, 0.25      ],\n",
       "        [0.62068966, 0.75      ]]),\n",
       " array([0.05237037, 0.65185185]))"
      ]
     },
     "execution_count": 7,
     "metadata": {},
     "output_type": "execute_result"
    }
   ],
   "source": [
    "x_scaled[:2] , y_scaled[:2].reshape(2,)"
   ]
  },
  {
   "cell_type": "code",
   "execution_count": 8,
   "id": "bb5adb8e",
   "metadata": {},
   "outputs": [
    {
     "data": {
      "text/plain": [
       "array([0.05237037, 0.65185185, 0.22222222, 0.31851852, 0.14074074,\n",
       "       0.04444444, 0.76296296, 0.91111111, 0.13333333, 1.        ,\n",
       "       0.37037037, 0.8       , 0.04444444, 0.05925926, 0.51111111,\n",
       "       0.07407407, 0.11851852, 0.20740741, 0.51851852, 0.        ])"
      ]
     },
     "execution_count": 8,
     "metadata": {},
     "output_type": "execute_result"
    }
   ],
   "source": [
    "y_scaled = y_scaled.reshape(len(y_scaled),)\n",
    "y_scaled"
   ]
  },
  {
   "cell_type": "code",
   "execution_count": 9,
   "id": "7ef36d26",
   "metadata": {},
   "outputs": [],
   "source": [
    "from sklearn.model_selection import train_test_split\n",
    "x_train , x_test , y_train , y_test = train_test_split( x_scaled , y_scaled , test_size=0.2 ,random_state=25 )"
   ]
  },
  {
   "cell_type": "code",
   "execution_count": 10,
   "id": "5d4dffdd",
   "metadata": {},
   "outputs": [
    {
     "data": {
      "text/plain": [
       "((16, 2), (4, 2), (16,))"
      ]
     },
     "execution_count": 10,
     "metadata": {},
     "output_type": "execute_result"
    }
   ],
   "source": [
    "x_train.shape , x_test.shape ,y_train.shape"
   ]
  },
  {
   "cell_type": "markdown",
   "id": "6c385081",
   "metadata": {},
   "source": [
    "# Build Model with Tenserflow"
   ]
  },
  {
   "cell_type": "code",
   "execution_count": 11,
   "id": "f9407b14",
   "metadata": {},
   "outputs": [
    {
     "name": "stdout",
     "output_type": "stream",
     "text": [
      "Epoch 1/100\n",
      "1/1 [==============================] - 1s 862ms/step - loss: 0.2076\n",
      "Epoch 2/100\n",
      "1/1 [==============================] - 0s 11ms/step - loss: 0.2063\n",
      "Epoch 3/100\n",
      "1/1 [==============================] - 0s 12ms/step - loss: 0.2050\n",
      "Epoch 4/100\n",
      "1/1 [==============================] - 0s 12ms/step - loss: 0.2037\n",
      "Epoch 5/100\n",
      "1/1 [==============================] - 0s 12ms/step - loss: 0.2024\n",
      "Epoch 6/100\n",
      "1/1 [==============================] - 0s 11ms/step - loss: 0.2011\n",
      "Epoch 7/100\n",
      "1/1 [==============================] - 0s 11ms/step - loss: 0.1999\n",
      "Epoch 8/100\n",
      "1/1 [==============================] - 0s 11ms/step - loss: 0.1986\n",
      "Epoch 9/100\n",
      "1/1 [==============================] - 0s 11ms/step - loss: 0.1974\n",
      "Epoch 10/100\n",
      "1/1 [==============================] - 0s 11ms/step - loss: 0.1961\n",
      "Epoch 11/100\n",
      "1/1 [==============================] - 0s 10ms/step - loss: 0.1949\n",
      "Epoch 12/100\n",
      "1/1 [==============================] - 0s 12ms/step - loss: 0.1936\n",
      "Epoch 13/100\n",
      "1/1 [==============================] - 0s 14ms/step - loss: 0.1924\n",
      "Epoch 14/100\n",
      "1/1 [==============================] - 0s 11ms/step - loss: 0.1912\n",
      "Epoch 15/100\n",
      "1/1 [==============================] - 0s 10ms/step - loss: 0.1900\n",
      "Epoch 16/100\n",
      "1/1 [==============================] - 0s 12ms/step - loss: 0.1888\n",
      "Epoch 17/100\n",
      "1/1 [==============================] - 0s 18ms/step - loss: 0.1876\n",
      "Epoch 18/100\n",
      "1/1 [==============================] - 0s 10ms/step - loss: 0.1864\n",
      "Epoch 19/100\n",
      "1/1 [==============================] - 0s 10ms/step - loss: 0.1853\n",
      "Epoch 20/100\n",
      "1/1 [==============================] - 0s 15ms/step - loss: 0.1841\n",
      "Epoch 21/100\n",
      "1/1 [==============================] - 0s 10ms/step - loss: 0.1830\n",
      "Epoch 22/100\n",
      "1/1 [==============================] - 0s 11ms/step - loss: 0.1818\n",
      "Epoch 23/100\n",
      "1/1 [==============================] - 0s 10ms/step - loss: 0.1807\n",
      "Epoch 24/100\n",
      "1/1 [==============================] - 0s 11ms/step - loss: 0.1795\n",
      "Epoch 25/100\n",
      "1/1 [==============================] - 0s 11ms/step - loss: 0.1784\n",
      "Epoch 26/100\n",
      "1/1 [==============================] - 0s 11ms/step - loss: 0.1773\n",
      "Epoch 27/100\n",
      "1/1 [==============================] - 0s 11ms/step - loss: 0.1762\n",
      "Epoch 28/100\n",
      "1/1 [==============================] - 0s 7ms/step - loss: 0.1751\n",
      "Epoch 29/100\n",
      "1/1 [==============================] - 0s 14ms/step - loss: 0.1740\n",
      "Epoch 30/100\n",
      "1/1 [==============================] - 0s 9ms/step - loss: 0.1730\n",
      "Epoch 31/100\n",
      "1/1 [==============================] - 0s 13ms/step - loss: 0.1719\n",
      "Epoch 32/100\n",
      "1/1 [==============================] - 0s 10ms/step - loss: 0.1708\n",
      "Epoch 33/100\n",
      "1/1 [==============================] - 0s 10ms/step - loss: 0.1698\n",
      "Epoch 34/100\n",
      "1/1 [==============================] - 0s 10ms/step - loss: 0.1687\n",
      "Epoch 35/100\n",
      "1/1 [==============================] - 0s 12ms/step - loss: 0.1677\n",
      "Epoch 36/100\n",
      "1/1 [==============================] - 0s 13ms/step - loss: 0.1667\n",
      "Epoch 37/100\n",
      "1/1 [==============================] - 0s 11ms/step - loss: 0.1656\n",
      "Epoch 38/100\n",
      "1/1 [==============================] - 0s 12ms/step - loss: 0.1646\n",
      "Epoch 39/100\n",
      "1/1 [==============================] - 0s 13ms/step - loss: 0.1636\n",
      "Epoch 40/100\n",
      "1/1 [==============================] - 0s 13ms/step - loss: 0.1626\n",
      "Epoch 41/100\n",
      "1/1 [==============================] - 0s 13ms/step - loss: 0.1616\n",
      "Epoch 42/100\n",
      "1/1 [==============================] - 0s 12ms/step - loss: 0.1607\n",
      "Epoch 43/100\n",
      "1/1 [==============================] - 0s 13ms/step - loss: 0.1597\n",
      "Epoch 44/100\n",
      "1/1 [==============================] - 0s 11ms/step - loss: 0.1587\n",
      "Epoch 45/100\n",
      "1/1 [==============================] - 0s 15ms/step - loss: 0.1578\n",
      "Epoch 46/100\n",
      "1/1 [==============================] - 0s 8ms/step - loss: 0.1568\n",
      "Epoch 47/100\n",
      "1/1 [==============================] - 0s 9ms/step - loss: 0.1559\n",
      "Epoch 48/100\n",
      "1/1 [==============================] - 0s 10ms/step - loss: 0.1549\n",
      "Epoch 49/100\n",
      "1/1 [==============================] - 0s 9ms/step - loss: 0.1540\n",
      "Epoch 50/100\n",
      "1/1 [==============================] - 0s 11ms/step - loss: 0.1531\n",
      "Epoch 51/100\n",
      "1/1 [==============================] - 0s 11ms/step - loss: 0.1521\n",
      "Epoch 52/100\n",
      "1/1 [==============================] - 0s 12ms/step - loss: 0.1512\n",
      "Epoch 53/100\n",
      "1/1 [==============================] - 0s 12ms/step - loss: 0.1503\n",
      "Epoch 54/100\n",
      "1/1 [==============================] - 0s 11ms/step - loss: 0.1494\n",
      "Epoch 55/100\n",
      "1/1 [==============================] - 0s 11ms/step - loss: 0.1485\n",
      "Epoch 56/100\n",
      "1/1 [==============================] - 0s 11ms/step - loss: 0.1476\n",
      "Epoch 57/100\n",
      "1/1 [==============================] - 0s 10ms/step - loss: 0.1468\n",
      "Epoch 58/100\n",
      "1/1 [==============================] - 0s 8ms/step - loss: 0.1459\n",
      "Epoch 59/100\n",
      "1/1 [==============================] - 0s 11ms/step - loss: 0.1450\n",
      "Epoch 60/100\n",
      "1/1 [==============================] - 0s 38ms/step - loss: 0.1442\n",
      "Epoch 61/100\n",
      "1/1 [==============================] - 0s 8ms/step - loss: 0.1433\n",
      "Epoch 62/100\n",
      "1/1 [==============================] - 0s 8ms/step - loss: 0.1425\n",
      "Epoch 63/100\n",
      "1/1 [==============================] - 0s 18ms/step - loss: 0.1416\n",
      "Epoch 64/100\n",
      "1/1 [==============================] - 0s 10ms/step - loss: 0.1408\n",
      "Epoch 65/100\n",
      "1/1 [==============================] - 0s 16ms/step - loss: 0.1400\n",
      "Epoch 66/100\n",
      "1/1 [==============================] - 0s 13ms/step - loss: 0.1392\n",
      "Epoch 67/100\n",
      "1/1 [==============================] - 0s 24ms/step - loss: 0.1384\n",
      "Epoch 68/100\n",
      "1/1 [==============================] - 0s 8ms/step - loss: 0.1376\n",
      "Epoch 69/100\n",
      "1/1 [==============================] - 0s 16ms/step - loss: 0.1368\n",
      "Epoch 70/100\n",
      "1/1 [==============================] - 0s 9ms/step - loss: 0.1360\n",
      "Epoch 71/100\n",
      "1/1 [==============================] - 0s 36ms/step - loss: 0.1352\n",
      "Epoch 72/100\n",
      "1/1 [==============================] - 0s 10ms/step - loss: 0.1344\n",
      "Epoch 73/100\n",
      "1/1 [==============================] - 0s 10ms/step - loss: 0.1336\n",
      "Epoch 74/100\n",
      "1/1 [==============================] - 0s 25ms/step - loss: 0.1328\n",
      "Epoch 75/100\n",
      "1/1 [==============================] - 0s 17ms/step - loss: 0.1321\n",
      "Epoch 76/100\n",
      "1/1 [==============================] - 0s 13ms/step - loss: 0.1313\n",
      "Epoch 77/100\n",
      "1/1 [==============================] - 0s 12ms/step - loss: 0.1306\n",
      "Epoch 78/100\n",
      "1/1 [==============================] - 0s 13ms/step - loss: 0.1298\n",
      "Epoch 79/100\n",
      "1/1 [==============================] - 0s 12ms/step - loss: 0.1291\n",
      "Epoch 80/100\n",
      "1/1 [==============================] - 0s 9ms/step - loss: 0.1284\n",
      "Epoch 81/100\n",
      "1/1 [==============================] - 0s 12ms/step - loss: 0.1276\n",
      "Epoch 82/100\n",
      "1/1 [==============================] - 0s 8ms/step - loss: 0.1269\n",
      "Epoch 83/100\n",
      "1/1 [==============================] - 0s 11ms/step - loss: 0.1262\n",
      "Epoch 84/100\n",
      "1/1 [==============================] - 0s 13ms/step - loss: 0.1255\n",
      "Epoch 85/100\n",
      "1/1 [==============================] - 0s 12ms/step - loss: 0.1248\n",
      "Epoch 86/100\n",
      "1/1 [==============================] - 0s 12ms/step - loss: 0.1241\n",
      "Epoch 87/100\n",
      "1/1 [==============================] - 0s 10ms/step - loss: 0.1234\n",
      "Epoch 88/100\n",
      "1/1 [==============================] - 0s 22ms/step - loss: 0.1227\n",
      "Epoch 89/100\n",
      "1/1 [==============================] - 0s 11ms/step - loss: 0.1220\n",
      "Epoch 90/100\n",
      "1/1 [==============================] - 0s 12ms/step - loss: 0.1213\n",
      "Epoch 91/100\n",
      "1/1 [==============================] - 0s 10ms/step - loss: 0.1206\n",
      "Epoch 92/100\n",
      "1/1 [==============================] - 0s 15ms/step - loss: 0.1199\n",
      "Epoch 93/100\n",
      "1/1 [==============================] - 0s 12ms/step - loss: 0.1193\n",
      "Epoch 94/100\n",
      "1/1 [==============================] - 0s 19ms/step - loss: 0.1186\n",
      "Epoch 95/100\n",
      "1/1 [==============================] - 0s 17ms/step - loss: 0.1180\n",
      "Epoch 96/100\n",
      "1/1 [==============================] - 0s 13ms/step - loss: 0.1173\n",
      "Epoch 97/100\n",
      "1/1 [==============================] - 0s 11ms/step - loss: 0.1167\n",
      "Epoch 98/100\n",
      "1/1 [==============================] - 0s 13ms/step - loss: 0.1160\n",
      "Epoch 99/100\n",
      "1/1 [==============================] - 0s 10ms/step - loss: 0.1154\n",
      "Epoch 100/100\n",
      "1/1 [==============================] - 0s 11ms/step - loss: 0.1148\n"
     ]
    },
    {
     "data": {
      "text/plain": [
       "<keras.src.callbacks.History at 0x22d059f5f50>"
      ]
     },
     "execution_count": 11,
     "metadata": {},
     "output_type": "execute_result"
    }
   ],
   "source": [
    "model = tf.keras.Sequential([\n",
    "    tf.keras.layers.Dense(  11, input_shape = (2 , )   ) ,\n",
    "    \n",
    "] )\n",
    "\n",
    "model.compile( \n",
    "              optimizer='adam',\n",
    "              loss ='mse',\n",
    "              )\n",
    "\n",
    "model.fit(x_train , y_train , epochs=100)"
   ]
  },
  {
   "cell_type": "code",
   "execution_count": 12,
   "id": "301ded01",
   "metadata": {},
   "outputs": [
    {
     "name": "stdout",
     "output_type": "stream",
     "text": [
      "1/1 [==============================] - 0s 313ms/step - loss: 0.1051\n"
     ]
    },
    {
     "data": {
      "text/plain": [
       "0.10508619248867035"
      ]
     },
     "execution_count": 12,
     "metadata": {},
     "output_type": "execute_result"
    }
   ],
   "source": [
    "model.evaluate(x_test , y_test)"
   ]
  },
  {
   "cell_type": "code",
   "execution_count": 13,
   "id": "736a72e0",
   "metadata": {},
   "outputs": [
    {
     "data": {
      "text/plain": [
       "[array([[ 0.73107505,  0.57486016,  0.2570104 ,  0.07477425,  0.0690865 ,\n",
       "          0.08671983,  0.74522454, -0.37709102, -0.12116564, -0.04304525,\n",
       "          0.4381175 ],\n",
       "        [ 0.1812374 , -0.45917416,  0.288254  ,  0.07267904,  0.38787428,\n",
       "          0.73358154,  0.07315923,  0.46335268,  0.5949174 , -0.49689803,\n",
       "         -0.52957314]], dtype=float32),\n",
       " array([ 0.0065255 ,  0.09179606,  0.07751241,  0.08985071,  0.0804031 ,\n",
       "        -0.02318431,  0.05254509,  0.08903171,  0.07594671,  0.09497588,\n",
       "         0.09326365], dtype=float32)]"
      ]
     },
     "execution_count": 13,
     "metadata": {},
     "output_type": "execute_result"
    }
   ],
   "source": [
    "model.get_weights()"
   ]
  },
  {
   "cell_type": "code",
   "execution_count": 14,
   "id": "a1d60f4d",
   "metadata": {},
   "outputs": [],
   "source": [
    "def convert_price(prices):\n",
    "    return msc_y.inverse_transform(prices)"
   ]
  },
  {
   "cell_type": "code",
   "execution_count": 15,
   "id": "ca5e0011",
   "metadata": {},
   "outputs": [
    {
     "name": "stdout",
     "output_type": "stream",
     "text": [
      "1/1 [==============================] - 0s 205ms/step\n"
     ]
    },
    {
     "data": {
      "text/plain": [
       "array([[ 49.207546,  36.92356 ,  55.782032,  47.627026,  56.910004,\n",
       "         54.83958 ,  51.970158,  54.391163,  60.63913 ,  27.450287,\n",
       "         32.836037],\n",
       "       [118.78635 ,  51.021137,  95.39899 ,  58.398125,  88.510635,\n",
       "        111.158615, 115.363556,  56.08858 ,  91.29186 ,  -9.466784,\n",
       "         31.455635],\n",
       "       [ 66.89546 ,  30.525082,  69.57846 ,  51.26344 ,  71.09424 ,\n",
       "         80.97053 ,  66.23438 ,  64.060875,  78.79983 ,   9.998675,\n",
       "         21.897285],\n",
       "       [ 79.14728 ,  40.158947,  73.885605,  52.516552,  72.25203 ,\n",
       "         82.42383 ,  78.72332 ,  57.74135 ,  76.769264,   9.277299,\n",
       "         29.239532]], dtype=float32)"
      ]
     },
     "execution_count": 15,
     "metadata": {},
     "output_type": "execute_result"
    }
   ],
   "source": [
    "y_pred = model.predict(x_test)\n",
    "convert_price(y_pred)"
   ]
  },
  {
   "cell_type": "code",
   "execution_count": 16,
   "id": "8377bb5a",
   "metadata": {},
   "outputs": [
    {
     "data": {
      "text/plain": [
       "array([[ 40., 140.,  62.,  82.]])"
      ]
     },
     "execution_count": 16,
     "metadata": {},
     "output_type": "execute_result"
    }
   ],
   "source": [
    "convert_price([y_test])"
   ]
  },
  {
   "cell_type": "code",
   "execution_count": 17,
   "id": "66bcf4ff",
   "metadata": {},
   "outputs": [
    {
     "data": {
      "text/plain": [
       "2.125"
      ]
     },
     "execution_count": 17,
     "metadata": {},
     "output_type": "execute_result"
    }
   ],
   "source": [
    "# loss function\n",
    "# loss = \n",
    "def mean_squarred_error(y_true , y_pred):\n",
    "    return np.mean( np.square( y_true - y_pred))\n",
    "    \n",
    "y_true = np.array([0 , 0.5])\n",
    "y_pred = np.array([2 , 1])\n",
    "\n",
    "\n",
    "mean_squarred_error(y_true, y_pred)\n"
   ]
  },
  {
   "cell_type": "markdown",
   "id": "50ac2335",
   "metadata": {},
   "source": [
    "# 1. Batch Gradient Descent (BGD):\n",
    "\n",
    "In BGD, the entire training dataset is used to compute the gradient of the loss function with respect to the parameters in a single step.\n",
    "It provides a precise estimate of the gradient, leading to more stable convergence.\n",
    "BGD can be slow for large datasets since it requires processing the entire dataset in each iteration, which can be computationally expensive.\n",
    "It may get stuck in local minima."
   ]
  },
  {
   "cell_type": "code",
   "execution_count": 18,
   "id": "c523b24c",
   "metadata": {},
   "outputs": [],
   "source": [
    "def show_plot(x, y):\n",
    "    plt.xlabel(\"epoch\")\n",
    "    plt.ylabel(\"cost\")\n",
    "    plt.plot(x,y)\n",
    "    plt.show()\n",
    "    "
   ]
  },
  {
   "cell_type": "code",
   "execution_count": 19,
   "id": "3fbb1b44",
   "metadata": {},
   "outputs": [
    {
     "name": "stdout",
     "output_type": "stream",
     "text": [
      "Epoch:1, weights : [0.76571956 0.71827658],  bias:-0.4813516922094508, loss:0.2859287105946281 \n",
      "Epoch:2, weights : [0.82017742 0.79625396],  bias:-0.26596271026258145, loss:0.05837816367608716 \n",
      "Epoch:3, weights : [0.76778133 0.73859095],  bias:-0.3218847014264452, loss:0.022334390116422423 \n",
      "Epoch:4, weights : [0.76030991 0.73562221],  bias:-0.2762184208863658, loss:0.015127838234369185 \n",
      "Epoch:5, weights : [0.73893554 0.71383102],  bias:-0.2721693156715699, loss:0.012568496569602704 \n",
      "Epoch:6, weights : [0.72592788 0.70127317],  bias:-0.25435205351374773, loss:0.010996556846587999 \n",
      "Epoch:7, weights : [0.7123863  0.68693977],  bias:-0.24383887283391864, loss:0.009808746253392769 \n",
      "Epoch:8, weights : [0.70144191 0.67487895],  bias:-0.23230349131386038, loss:0.00886704803408839 \n",
      "Epoch:9, weights : [0.69162733 0.66336451],  bias:-0.22275717487523344, loss:0.008112331386428032 \n",
      "Epoch:10, weights : [0.68327337 0.65291074],  bias:-0.21386883849183136, loss:0.007505080292331455 \n",
      "Epoch:11, weights : [0.67604419 0.6431859 ],  bias:-0.20599721759190043, loss:0.007014988706216049 \n",
      "Epoch:12, weights : [0.66988313 0.63419831],  bias:-0.19886735281489765, loss:0.006618126798793187 \n",
      "Epoch:13, weights : [0.66464627 0.62583833],  bias:-0.19246299620082868, loss:0.0062954936059118095 \n",
      "Epoch:14, weights : [0.66024126 0.61805322],  bias:-0.18668155922429058, loss:0.00603198572294064 \n",
      "Epoch:15, weights : [0.65657195 0.6107786 ],  bias:-0.18146547326539325, loss:0.005815595121758657 \n",
      "Epoch:16, weights : [0.65355793 0.60396372],  bias:-0.1767503572048882, loss:0.005636774061009901 \n",
      "Epoch:17, weights : [0.6511255  0.59756073],  bias:-0.17248382568668624, loss:0.005487930600177458 \n",
      "Epoch:18, weights : [0.64920974 0.59152795],  bias:-0.16861723469997564, loss:0.005363027608730622 \n",
      "Epoch:19, weights : [0.64775249 0.5858278 ],  bias:-0.1651079524155368, loss:0.005257264001154838 \n",
      "Epoch:20, weights : [0.64670203 0.5804269 ],  bias:-0.16191767754946268, loss:0.005166821331299088 \n",
      "Epoch:21, weights : [0.64601219 0.57529542],  bias:-0.15901236639223473, loss:0.005088662343911529 \n",
      "Epoch:22, weights : [0.64564187 0.57040676],  bias:-0.1563616187987778, loss:0.005020370830077485 \n",
      "Epoch:23, weights : [0.64555443 0.56573717],  bias:-0.15393834199636028, loss:0.0049600243177246395 \n",
      "Epoch:24, weights : [0.64571721 0.56126546],  bias:-0.15171836952776763, loss:0.004906092864802832 \n",
      "Epoch:25, weights : [0.64610112 0.5569727 ],  bias:-0.14968015278855165, loss:0.004857358603136943 \n",
      "Epoch:26, weights : [0.64668021 0.55284202],  bias:-0.1478044739569705, loss:0.0048128517783088175 \n",
      "Epoch:27, weights : [0.6474314  0.54885833],  bias:-0.14607419467448032, loss:0.004771799903282628 \n",
      "Epoch:28, weights : [0.64833409 0.54500817],  bias:-0.14447403018362526, loss:0.004733587336980987 \n",
      "Epoch:29, weights : [0.64936996 0.54127952],  bias:-0.14299034863392462, loss:0.0046977231503204184 \n",
      "Epoch:30, weights : [0.65052267 0.53766164],  bias:-0.14161099187714385, loss:0.0046638155804789635 \n",
      "Epoch:31, weights : [0.65177768 0.53414492],  bias:-0.1403251157884893, loss:0.004631551722572819 \n",
      "Epoch:32, weights : [0.65312202 0.5307208 ],  bias:-0.13912304785646393, loss:0.004600681384887012 \n",
      "Epoch:33, weights : [0.65454418 0.5273816 ],  bias:-0.13799616022377137, loss:0.0045710042539850474 \n",
      "Epoch:34, weights : [0.65603387 0.52412048],  bias:-0.13693675648363335, loss:0.004542359691056901 \n",
      "Epoch:35, weights : [0.65758195 0.52093129],  bias:-0.13593797074855746, loss:0.00451461862001106 \n",
      "Epoch:36, weights : [0.6591803  0.51780856],  bias:-0.13499367765822412, loss:0.004487677078432369 \n",
      "Epoch:37, weights : [0.66082166 0.51474737],  bias:-0.13409841214195914, loss:0.004461451090463094 \n",
      "Epoch:38, weights : [0.66249961 0.51174333],  bias:-0.1332472978780091, loss:0.004435872590570381 \n",
      "Epoch:39, weights : [0.66420842 0.5087925 ],  bias:-0.1324359835071264, loss:0.0044108861827356 \n",
      "Epoch:40, weights : [0.66594299 0.50589135],  bias:-0.13166058575988518, loss:0.004386446563779227 \n",
      "Epoch:41, weights : [0.6676988 0.5030367],  bias:-0.1309176387483577, loss:0.004362516474654729 \n",
      "Epoch:42, weights : [0.66947183 0.50022573],  bias:-0.13020404875396946, loss:0.004339065071464045 \n",
      "Epoch:43, weights : [0.67125851 0.49745588],  bias:-0.12951705391579302, loss:0.004316066630141814 \n",
      "Epoch:44, weights : [0.67305566 0.49472485],  bias:-0.1288541882881071, loss:0.0042934995163994415 \n",
      "Epoch:45, weights : [0.67486049 0.49203059],  bias:-0.12821324979362722, loss:0.004271345366546324 \n",
      "Epoch:46, weights : [0.67667048 0.48937124],  bias:-0.1275922716501457, loss:0.004249588435955946 \n",
      "Epoch:47, weights : [0.67848344 0.48674513],  bias:-0.12698949689409028, loss:0.004228215080808645 \n",
      "Epoch:48, weights : [0.6802974  0.48415074],  bias:-0.1264033556653195, loss:0.004207213345789541 \n",
      "Epoch:49, weights : [0.68211064 0.48158672],  bias:-0.12583244495385784, loss:0.004186572636021941 \n",
      "Epoch:50, weights : [0.68392162 0.47905184],  bias:-0.12527551054171582, loss:0.004166283455969757 \n",
      "Epoch:51, weights : [0.685729   0.47654497],  bias:-0.12473143090186564, loss:0.004146337201582712 \n",
      "Epoch:52, weights : [0.68753158 0.47406511],  bias:-0.12419920284223175, loss:0.004126725994772349 \n",
      "Epoch:53, weights : [0.68932831 0.47161134],  bias:-0.1236779287055516, loss:0.004107442551544189 \n",
      "Epoch:54, weights : [0.69111828 0.46918283],  bias:-0.1231668049564625, loss:0.0040884800768898975 \n",
      "Epoch:55, weights : [0.69290066 0.46677882],  bias:-0.1226651120054516, loss:0.004069832180957203 \n",
      "Epoch:56, weights : [0.69467476 0.4643986 ],  bias:-0.12217220513560259, loss:0.004051492812139344 \n",
      "Epoch:57, weights : [0.69643994 0.46204155],  bias:-0.12168750641260685, loss:0.004033456203619293 \n",
      "Epoch:58, weights : [0.69819568 0.45970708],  bias:-0.12121049747146063, loss:0.00401571683061436 \n",
      "Epoch:59, weights : [0.6999415  0.45739466],  bias:-0.1207407130848241, loss:0.003998269376131463 \n",
      "Epoch:60, weights : [0.70167699 0.4551038 ],  bias:-0.1202777354283176, loss:0.00398110870349224 \n",
      "Epoch:61, weights : [0.70340181 0.45283403],  bias:-0.11982118896721308, loss:0.003964229834244058 \n",
      "Epoch:62, weights : [0.70511566 0.45058494],  bias:-0.11937073589716814, loss:0.003947627930356675 \n",
      "Epoch:63, weights : [0.70681827 0.44835614],  bias:-0.1189260720789499, loss:0.0039312982798297745 \n",
      "Epoch:64, weights : [0.70850944 0.44614726],  bias:-0.11848692341360495, loss:0.003915236285015977 \n",
      "Epoch:65, weights : [0.71018897 0.44395797],  bias:-0.11805304261033699, loss:0.003899437453106406 \n",
      "Epoch:66, weights : [0.71185674 0.44178794],  bias:-0.11762420630452529, loss:0.0038838973883391584 \n",
      "Epoch:67, weights : [0.7135126  0.43963689],  bias:-0.11720021248793454, loss:0.0038686117855811987 \n",
      "Epoch:68, weights : [0.71515647 0.43750452],  bias:-0.11678087821727717, loss:0.0038535764250056913 \n",
      "Epoch:69, weights : [0.71678827 0.43539057],  bias:-0.11636603757095906, loss:0.0038387871676438066 \n",
      "Epoch:70, weights : [0.71840794 0.4332948 ],  bias:-0.1159555398271082, loss:0.0038242399516352525 \n",
      "Epoch:71, weights : [0.72001544 0.43121697],  bias:-0.11554924783890315, loss:0.003809930789037692 \n",
      "Epoch:72, weights : [0.72161076 0.42915685],  bias:-0.11514703658581621, loss:0.003795855763084011 \n",
      "Epoch:73, weights : [0.72319388 0.42711422],  bias:-0.11474879188170563, loss:0.0037820110257988336 \n",
      "Epoch:74, weights : [0.7247648  0.42508888],  bias:-0.11435440922275644, loss:0.003768392795904102 \n",
      "Epoch:75, weights : [0.72632354 0.42308063],  bias:-0.11396379276011305, loss:0.0037549973569575698 \n",
      "Epoch:76, weights : [0.72787012 0.42108929],  bias:-0.11357685438368983, loss:0.0037418210556797926 \n",
      "Epoch:77, weights : [0.72940457 0.41911466],  bias:-0.11319351290510961, loss:0.003728860300434051 \n",
      "Epoch:78, weights : [0.73092693 0.41715657],  bias:-0.11281369332902698, loss:0.003716111559830975 \n",
      "Epoch:79, weights : [0.73243724 0.41521485],  bias:-0.11243732620325819, loss:0.0037035713614353856 \n",
      "Epoch:80, weights : [0.73393556 0.41328933],  bias:-0.11206434703917614, loss:0.0036912362905573565 \n",
      "Epoch:81, weights : [0.73542193 0.41137986],  bias:-0.1116946957947558, loss:0.003679102989113247 \n",
      "Epoch:82, weights : [0.73689641 0.40948627],  bias:-0.111328316413482, loss:0.0036671681545452054 \n",
      "Epoch:83, weights : [0.73835907 0.40760842],  bias:-0.11096515641306326, loss:0.003655428538790049 \n",
      "Epoch:84, weights : [0.73980998 0.40574615],  bias:-0.11060516651855733, loss:0.003643880947290248 \n",
      "Epoch:85, weights : [0.7412492  0.40389932],  bias:-0.1102483003350939, loss:0.0036325222380410613 \n",
      "Epoch:86, weights : [0.7426768  0.40206778],  bias:-0.10989451405590485, loss:0.0036213493206692276 \n",
      "Epoch:87, weights : [0.74409287 0.4002514 ],  bias:-0.10954376620183548, loss:0.0036103591555393727 \n",
      "Epoch:88, weights : [0.74549746 0.39845004],  bias:-0.10919601738892716, loss:0.003599548752885085 \n",
      "Epoch:89, weights : [0.74689066 0.39666357],  bias:-0.10885123012102808, loss:0.0035889151719622286 \n",
      "Epoch:90, weights : [0.74827256 0.39489185],  bias:-0.10850936860472256, loss:0.0035784555202224397 \n",
      "Epoch:91, weights : [0.74964321 0.39313475],  bias:-0.10817039858415936, loss:0.003568166952505218 \n",
      "Epoch:92, weights : [0.75100272 0.39139214],  bias:-0.10783428719362491, loss:0.003558046670247242 \n",
      "Epoch:93, weights : [0.75235115 0.38966391],  bias:-0.10750100282593787, loss:0.003548091920707813 \n",
      "Epoch:94, weights : [0.75368859 0.38794991],  bias:-0.1071705150149527, loss:0.003538299996209517 \n",
      "Epoch:95, weights : [0.75501512 0.38625004],  bias:-0.10684279433064345, loss:0.003528668233393312 \n",
      "Epoch:96, weights : [0.75633082 0.38456417],  bias:-0.1065178122854054, loss:0.0035191940124874132 \n",
      "Epoch:97, weights : [0.75763577 0.38289218],  bias:-0.10619554125036065, loss:0.0035098747565894166 \n",
      "Epoch:98, weights : [0.75893006 0.38123396],  bias:-0.10587595438058345, loss:0.003500707930961172 \n",
      "Epoch:99, weights : [0.76021376 0.37958938],  bias:-0.10555902554828062, loss:0.00349169104233599 \n",
      "Epoch:100, weights : [0.76148697 0.37795833],  bias:-0.10524472928306558, loss:0.003482821638237846 \n"
     ]
    },
    {
     "data": {
      "image/png": "[encoded data removed]",
      "text/plain": [
       "<Figure size 640x480 with 1 Axes>"
      ]
     },
     "metadata": {},
     "output_type": "display_data"
    }
   ],
   "source": [
    "def Batch_GD(x_train  ,y_train,  epoches ,learning_rate=0.2, loss_threshold = 0.1):\n",
    "    \n",
    "    ( total_samples , total_features) = x_train.shape\n",
    "    \n",
    "    # initialize weights and bias\n",
    "    weights = np.ones(total_features)\n",
    "    bias = 0 \n",
    "\n",
    "    cost_list = []\n",
    "    epoch_list = []\n",
    "    \n",
    "    for i in range(1 , epoches+1):\n",
    "        \n",
    "        # calculated weighted sum of age and affordiblity features\n",
    "        y_pred =   np.dot( weights , x_train.T  ) + bias\n",
    "        \n",
    "        #calculating the loss btw the actual and predicted using loss function\n",
    "        loss = mean_squarred_error( y_train , y_pred)\n",
    "        \n",
    "        d_weights = -(2/ total_samples)*(np.dot( x_train.T , (y_train - y_pred))) \n",
    "        d_bias =  -(2/total_samples)* np.sum(  y_train - y_pred)\n",
    "        \n",
    "        # adjust weights and bias to reduce the loss with help of learning_rate , derivated weights\n",
    "        # new_w = w * learning_rate - dw\n",
    "        \n",
    "        \n",
    "        weights = weights - learning_rate  * d_weights\n",
    "        bias = bias - learning_rate  * d_bias\n",
    "\n",
    "        \n",
    "        if i%1==0:\n",
    "            print (f'Epoch:{i}, weights : {weights},  bias:{bias}, loss:{loss} ')\n",
    "            cost_list.append(loss)\n",
    "            epoch_list.append(i)\n",
    "            \n",
    "        if loss<=loss_threshold:\n",
    "                print (f'Final - Epoch:{i}, weights : {weights},  bias:{bias}, loss:{loss} ')\n",
    "                break\n",
    "            \n",
    "    return weights, bias ,cost_list  , epoch_list\n",
    "        \n",
    "(weights, bias ,cost_list  , epoch_list) = Batch_GD(x_train , y_train ,epoches = 100 , learning_rate=0.5, loss_threshold = 0.002 )\n",
    "show_plot(epoch_list , cost_list)\n"
   ]
  },
  {
   "cell_type": "code",
   "execution_count": 20,
   "id": "6cafdc05",
   "metadata": {},
   "outputs": [
    {
     "name": "stdout",
     "output_type": "stream",
     "text": [
      "pred :  [[ 41.18261451 126.42557692  65.99120873  78.75268   ]]\n",
      "true :  [[ 40. 140.  62.  82.]]\n"
     ]
    }
   ],
   "source": [
    "def predict_price(weights , bias , x_test):\n",
    "    y_pred = np.dot(weights  , x_test.T) + bias\n",
    "    return y_pred \n",
    "\n",
    "def convert_price(y):\n",
    "    return  msc_y.inverse_transform([y])\n",
    "    \n",
    "y_pred =predict_price(weights , bias , x_test) \n",
    "print('pred : ' , convert_price(y_pred))\n",
    "print('true : ' ,  convert_price(y_test))"
   ]
  },
  {
   "cell_type": "markdown",
   "id": "f19c7167",
   "metadata": {},
   "source": [
    "# 2.Stochastic Gradient Descent (SGD):\n",
    "\n",
    "In SGD, only a single randomly selected data point (or a few data points) is used to compute the gradient in each iteration.\n",
    "It introduces randomness, which can help escape local minima and may converge faster due to frequent updates.\n",
    "SGD can have a noisy gradient estimate, leading to oscillations and slower convergence towards the end.\n",
    "Because of its randomness, SGD can exhibit more erratic behavior compared to other methods."
   ]
  },
  {
   "cell_type": "code",
   "execution_count": 21,
   "id": "40f06959",
   "metadata": {},
   "outputs": [
    {
     "name": "stdout",
     "output_type": "stream",
     "text": [
      "Epoch:1, weights : [0.99881672 0.99571061],  bias:-0.017157567049808427, loss:0.07536181940957999 \n",
      "Epoch:2, weights : [0.99306803 0.97936628],  bias:-0.04984621570897598, loss:0.2735482242975992 \n",
      "Epoch:3, weights : [0.9873464  0.96785954],  bias:-0.07285969478754847, loss:0.13558277614077288 \n",
      "Epoch:4, weights : [0.98209388 0.95729622],  bias:-0.09398633863431971, loss:0.11426178053844914 \n",
      "Epoch:5, weights : [0.95945205 0.94063092],  bias:-0.12731695020984085, loss:0.2843979950075557 \n",
      "Epoch:6, weights : [0.95529295 0.92880603],  bias:-0.15096672503549996, loss:0.14318383342192123 \n",
      "Epoch:7, weights : [0.95146682 0.91792782],  bias:-0.1727231469755549, loss:0.12117552528222847 \n",
      "Epoch:8, weights : [0.93383782 0.89662611],  bias:-0.20112542685970872, loss:0.20651251267015885 \n",
      "Epoch:9, weights : [0.91835488 0.87791756],  bias:-0.22607016292751764, loss:0.15929340351811788 \n",
      "Epoch:10, weights : [0.91453016 0.87042318],  bias:-0.2410589153888335, loss:0.05751365128873035 \n",
      "Epoch:11, weights : [0.90182364 0.85506946],  bias:-0.2615305422726073, loss:0.10728640186072315 \n",
      "Epoch:12, weights : [0.89851723 0.85176306],  bias:-0.26814334822302816, loss:0.011194675849707817 \n",
      "Epoch:13, weights : [0.89851723 0.85176306],  bias:-0.2513843889590889, loss:0.07190085519625614 \n",
      "Epoch:14, weights : [0.89899354 0.85262635],  bias:-0.24793120434419316, loss:0.003052667900045445 \n",
      "Epoch:15, weights : [0.88750644 0.84417138],  bias:-0.26484114574177603, loss:0.0732022062258397 \n",
      "Epoch:16, weights : [0.88658377 0.8423158 ],  bias:-0.26855230133559194, loss:0.0035258050154268867 \n",
      "Epoch:17, weights : [0.88724262 0.84350997],  bias:-0.2637756341650217, loss:0.005841036610151289 \n",
      "Epoch:18, weights : [0.85805656 0.81432391],  bias:-0.2929616938713704, loss:0.21806747678273272 \n",
      "Epoch:19, weights : [0.85842073 0.81535525],  bias:-0.28883635612597464, loss:0.004356713347478299 \n",
      "Epoch:20, weights : [0.85857957 0.81566649],  bias:-0.28759139708387704, loss:0.0003967802922241337 \n",
      "Final - Epoch:20, weights : [0.85857957 0.81566649],  bias:-0.28759139708387704, loss:0.0003967802922241337 \n"
     ]
    },
    {
     "data": {
      "image/png": "[encoded data removed]",
      "text/plain": [
       "<Figure size 640x480 with 1 Axes>"
      ]
     },
     "metadata": {},
     "output_type": "display_data"
    }
   ],
   "source": [
    "import random\n",
    "np.random.seed(0)\n",
    "\n",
    "def stochastic_GD(x_train  ,y_train,  epoches ,learning_rate=0.2, loss_threshold = 0.1):\n",
    "    \n",
    "    ( total_samples , total_features) = x_train.shape\n",
    "    \n",
    "    # initialize weights and bias\n",
    "    weights = np.ones(total_features)\n",
    "    bias = 0 \n",
    "\n",
    "    cost_list = []\n",
    "    epoch_list = []\n",
    "    \n",
    "    for i in range(1 , epoches+1):\n",
    "        \n",
    "        random_sample_index = random.randint(0,total_samples-1) # random index from traing sample\n",
    "        \n",
    "        x_sample =  x_train[ random_sample_index] \n",
    "        y_sample =  y_train[random_sample_index]\n",
    "        \n",
    "        # calculated weighted sum of age and affordiblity features\n",
    "        y_pred =   np.dot( weights , x_sample.T  ) + bias\n",
    "        \n",
    "        #calculating the loss btw the actual and predicted using loss function\n",
    "        loss = mean_squarred_error( y_sample , y_pred)\n",
    "        \n",
    "        d_weights = -(2/ total_samples)*(np.dot( x_sample.T , (y_sample - y_pred))) \n",
    "        d_bias =  -(2/total_samples)* np.sum(  y_sample - y_pred)\n",
    "        \n",
    "        # adjust weights and bias to reduce the loss with help of learning_rate , derivated weights\n",
    "        # new_w = w * learning_rate - dw\n",
    "        \n",
    "        \n",
    "        weights = weights - learning_rate  * d_weights\n",
    "        bias = bias - learning_rate  * d_bias\n",
    "\n",
    "        \n",
    "        if i%1==0:\n",
    "            print (f'Epoch:{i}, weights : {weights},  bias:{bias}, loss:{loss} ')\n",
    "            cost_list.append(loss)\n",
    "            epoch_list.append(i)\n",
    "            \n",
    "        if loss<=loss_threshold:\n",
    "                print (f'Final - Epoch:{i}, weights : {weights},  bias:{bias}, loss:{loss} ')\n",
    "                break\n",
    "            \n",
    "    return weights, bias ,cost_list  , epoch_list\n",
    "        \n",
    "(weights, bias ,cost_list  , epoch_list) = stochastic_GD(x_train , y_train ,epoches = 100 , learning_rate=0.5, loss_threshold = 0.002 )\n",
    "show_plot(epoch_list , cost_list)"
   ]
  },
  {
   "cell_type": "code",
   "execution_count": 22,
   "id": "e47d9fe4",
   "metadata": {},
   "outputs": [
    {
     "name": "stdout",
     "output_type": "stream",
     "text": [
      "true :  [[ 40. 140.  62.  82.]]\n",
      "pred :  [[ 32.69441302 155.09858589  73.81239901  88.20100828]]\n"
     ]
    }
   ],
   "source": [
    "y_pred =predict_price(weights , bias , x_test) \n",
    "print('true : ' ,  convert_price(y_test))\n",
    "print('pred : ' , convert_price(y_pred))"
   ]
  },
  {
   "cell_type": "markdown",
   "id": "37538556",
   "metadata": {},
   "source": [
    "# 3.Mini-batch Gradient Descent:\n",
    "\n",
    "Mini-batch Gradient Descent strikes a balance between BGD and SGD by dividing the training dataset into small batches (e.g., 32, 64, 128 samples) and computing the gradient based on each mini-batch.\n",
    "It combines the benefits of both BGD and SGD: stability from larger batch sizes and faster convergence from frequent updates.\n",
    "Mini-batch GD is the most commonly used method in practice, as it provides a good compromise between efficiency and convergence speed.\n",
    "The choice of mini-batch size can influence the behavior of the optimization process."
   ]
  },
  {
   "cell_type": "code",
   "execution_count": 23,
   "id": "7c603c95",
   "metadata": {},
   "outputs": [
    {
     "data": {
      "text/plain": [
       "(2, 7)"
      ]
     },
     "execution_count": 23,
     "metadata": {},
     "output_type": "execute_result"
    }
   ],
   "source": [
    "import random\n",
    "t = 10\n",
    "min_ = random.randrange(0 , t-5  )  \n",
    "max_ = min_ + 5\n",
    "(min_ , max_)"
   ]
  },
  {
   "cell_type": "code",
   "execution_count": 24,
   "id": "2f68e679",
   "metadata": {},
   "outputs": [
    {
     "name": "stdout",
     "output_type": "stream",
     "text": [
      "Epoch:1, weights : [0.92161767 0.89913893],  bias:-0.14780092592592592, loss:0.3339491501233915 \n",
      "Epoch:2, weights : [0.86984433 0.84214105],  bias:-0.2397168445593582, loss:0.09970139848566764 \n",
      "Epoch:3, weights : [0.864495   0.82980688],  bias:-0.24926497734200284, loss:0.027302552549065995 \n",
      "Epoch:4, weights : [0.82909039 0.78793151],  bias:-0.28962186012765034, loss:0.06673594845809887 \n",
      "Epoch:5, weights : [0.80537051 0.76018489],  bias:-0.30655121943154817, loss:0.04330996218841256 \n",
      "Epoch:6, weights : [0.8002261  0.75628523],  bias:-0.3101334073667242, loss:0.005407956334557482 \n",
      "Epoch:7, weights : [0.79958017 0.75505979],  bias:-0.2868891644633404, loss:0.025327776937108953 \n",
      "Epoch:8, weights : [0.79309464 0.74874396],  bias:-0.29258376565781896, loss:0.00431442949736894 \n",
      "Epoch:9, weights : [0.77573572 0.72950572],  bias:-0.2942220064673295, loss:0.034081859787759586 \n",
      "Epoch:10, weights : [0.76120692 0.71371406],  bias:-0.2910155212051854, loss:0.030162241658158773 \n",
      "Epoch:11, weights : [0.74969406 0.70213512],  bias:-0.28059072705760335, loss:0.026098660564253463 \n",
      "Epoch:12, weights : [0.73942213 0.68963367],  bias:-0.27735431437807556, loss:0.024019399659651868 \n",
      "Epoch:13, weights : [0.74059849 0.69112314],  bias:-0.2710876737366363, loss:0.003688087761289827 \n",
      "Epoch:14, weights : [0.73998816 0.69187284],  bias:-0.267620025946637, loss:0.0035320341798729176 \n",
      "Epoch:15, weights : [0.73917972 0.69017589],  bias:-0.24925328039596292, loss:0.018784192328677708 \n",
      "Epoch:16, weights : [0.73768293 0.68683674],  bias:-0.2364352565002146, loss:0.016918040786348724 \n",
      "Epoch:17, weights : [0.73586716 0.68491811],  bias:-0.2370450259714434, loss:0.001890342229081544 \n",
      "Final - Epoch:17, weights : [0.73586716 0.68491811],  bias:-0.2370450259714434, loss:0.001890342229081544 \n"
     ]
    },
    {
     "data": {
      "image/png": "[encoded data removed]",
      "text/plain": [
       "<Figure size 640x480 with 1 Axes>"
      ]
     },
     "metadata": {},
     "output_type": "display_data"
    }
   ],
   "source": [
    "def MiniBatch_GD(x_train  ,y_train,  epoches ,learning_rate=0.2, loss_threshold = 0.1):\n",
    "    \n",
    "    ( total_samples , total_features) = x_train.shape\n",
    "    sample_size = 5\n",
    "    \n",
    "    # initialize weights and bias\n",
    "    weights = np.ones(total_features)\n",
    "    bias = 0 \n",
    "\n",
    "    cost_list = []\n",
    "    epoch_list = []\n",
    "    \n",
    "    for i in range(1 , epoches+1):\n",
    "        \n",
    "        random_min_index = random.randrange(0,total_samples-sample_size ) # random index from traing sample\n",
    "        random_max_index = random_min_index + sample_size # random index from traing sample\n",
    "        \n",
    "        x_sample =  x_train[ random_min_index : random_max_index] \n",
    "        y_sample =  y_train[random_min_index : random_max_index ] \n",
    "        \n",
    "        # calculated weighted sum of age and affordiblity features\n",
    "        y_pred =   np.dot( weights , x_sample.T  ) + bias\n",
    "        \n",
    "        #calculating the loss btw the actual and predicted using loss function\n",
    "        loss = mean_squarred_error( y_sample , y_pred)\n",
    "        \n",
    "        d_weights = -(2/ total_samples)*(np.dot( x_sample.T , (y_sample - y_pred))) \n",
    "        d_bias =  -(2/total_samples)* np.sum(  y_sample - y_pred)\n",
    "        \n",
    "        # adjust weights and bias to reduce the loss with help of learning_rate , derivated weights\n",
    "        # new_w = w * learning_rate - dw\n",
    "        \n",
    "        \n",
    "        weights = weights - learning_rate  * d_weights\n",
    "        bias = bias - learning_rate  * d_bias\n",
    "\n",
    "        \n",
    "        if i%1==0:\n",
    "            print (f'Epoch:{i}, weights : {weights},  bias:{bias}, loss:{loss} ')\n",
    "            cost_list.append(loss)\n",
    "            epoch_list.append(i)\n",
    "            \n",
    "        if loss<=loss_threshold:\n",
    "                print (f'Final - Epoch:{i}, weights : {weights},  bias:{bias}, loss:{loss} ')\n",
    "                break\n",
    "            \n",
    "    return weights, bias ,cost_list  , epoch_list\n",
    "        \n",
    "(weights, bias ,cost_list  , epoch_list) = MiniBatch_GD(x_train , y_train ,epoches = 100 , learning_rate=0.5, loss_threshold = 0.002 )\n",
    "show_plot(epoch_list , cost_list)"
   ]
  },
  {
   "cell_type": "markdown",
   "id": "bbb64f6f",
   "metadata": {},
   "source": [
    "# codebasics"
   ]
  },
  {
   "cell_type": "code",
   "execution_count": 26,
   "id": "0f4d1e9c",
   "metadata": {},
   "outputs": [
    {
     "name": "stdout",
     "output_type": "stream",
     "text": [
      "[0.69094279 0.65785598] -0.21953733259208214 0.0028011149233603053\n"
     ]
    },
    {
     "data": {
      "image/png": "[encoded data removed]",
      "text/plain": [
       "<Figure size 640x480 with 1 Axes>"
      ]
     },
     "metadata": {},
     "output_type": "display_data"
    }
   ],
   "source": [
    "def mini_batch_gradient_descent(X, y_true, epochs = 100, batch_size = 5, learning_rate = 0.01):\n",
    "    \n",
    "    number_of_features = X.shape[1]\n",
    "    # numpy array with 1 row and columns equal to number of features. In \n",
    "    # our case number_of_features = 3 (area, bedroom and age)\n",
    "    w = np.ones(shape=(number_of_features)) \n",
    "    b = 0\n",
    "    total_samples = X.shape[0] # number of rows in X\n",
    "    \n",
    "    if batch_size > total_samples: # In this case mini batch becomes same as batch gradient descent\n",
    "        batch_size = total_samples\n",
    "        \n",
    "    cost_list = []\n",
    "    epoch_list = []\n",
    "    \n",
    "    num_batches = int(total_samples/batch_size)\n",
    "    \n",
    "    for i in range(epochs):    \n",
    "        random_indices = np.random.permutation(total_samples)\n",
    "        X_tmp = X[random_indices]\n",
    "        y_tmp = y_true[random_indices]\n",
    "        \n",
    "        for j in range(0,total_samples,batch_size):\n",
    "            Xj = X_tmp[j:j+batch_size]\n",
    "            yj = y_tmp[j:j+batch_size]\n",
    "            y_predicted = np.dot(w, Xj.T) + b\n",
    "            \n",
    "            w_grad = -(2/len(Xj))*(Xj.T.dot(yj-y_predicted))\n",
    "            b_grad = -(2/len(Xj))*np.sum(yj-y_predicted)\n",
    "            \n",
    "            w = w - learning_rate * w_grad\n",
    "            b = b - learning_rate * b_grad\n",
    "                \n",
    "            cost = np.mean(np.square(yj-y_predicted)) # MSE (Mean Squared Error)\n",
    "        \n",
    "        if i%10==0:\n",
    "            cost_list.append(cost)\n",
    "            epoch_list.append(i)\n",
    "        \n",
    "    return w, b, cost, cost_list, epoch_list\n",
    "\n",
    "w, b, cost, cost_list, epoch_list = mini_batch_gradient_descent(\n",
    "    x_train,\n",
    "    y_train.reshape(y_train.shape[0],),\n",
    "    epochs = 120,\n",
    "    batch_size = 5\n",
    ")\n",
    "print(w, b, cost)\n",
    "\n",
    "show_plot(epoch_list , cost_list)\n"
   ]
  }
 ],
 "metadata": {
  "kernelspec": {
   "display_name": "Python 3 (ipykernel)",
   "language": "python",
   "name": "python3"
  },
  "language_info": {
   "codemirror_mode": {
    "name": "ipython",
    "version": 3
   },
   "file_extension": ".py",
   "mimetype": "text/x-python",
   "name": "python",
   "nbconvert_exporter": "python",
   "pygments_lexer": "ipython3",
   "version": "3.11.4"
  },
  "widgets": {
   "application/vnd.jupyter.widget-state+json": {
    "state": {},
    "version_major": 2,
    "version_minor": 0
   }
  }
 },
 "nbformat": 4,
 "nbformat_minor": 5
}
