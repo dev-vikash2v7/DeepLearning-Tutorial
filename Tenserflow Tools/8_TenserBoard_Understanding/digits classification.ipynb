{
 "cells": [
  {
   "cell_type": "code",
   "execution_count": 1,
   "metadata": {},
   "outputs": [],
   "source": [
    "import keras\n",
    "import numpy as np\n",
    "import matplotlib.pyplot as plt\n",
    "import tensorflow as tf\n",
    "import pandas as pd"
   ]
  },
  {
   "cell_type": "code",
   "execution_count": 2,
   "metadata": {},
   "outputs": [],
   "source": [
    "(X_train, y_train) , (X_test, y_test) =  keras.datasets.mnist.load_data()"
   ]
  },
  {
   "cell_type": "code",
   "execution_count": 3,
   "metadata": {},
   "outputs": [
    {
     "data": {
      "text/plain": [
       "((60000, 28, 28), (60000,), (10000, 28, 28), (10000,))"
      ]
     },
     "execution_count": 3,
     "metadata": {},
     "output_type": "execute_result"
    }
   ],
   "source": [
    "X_train.shape , y_train.shape , X_test.shape , y_test.shape"
   ]
  },
  {
   "cell_type": "code",
   "execution_count": 4,
   "metadata": {},
   "outputs": [
    {
     "data": {
      "text/plain": [
       "(28, 28)"
      ]
     },
     "execution_count": 4,
     "metadata": {},
     "output_type": "execute_result"
    }
   ],
   "source": [
    "X_train[0].shape"
   ]
  },
  {
   "cell_type": "code",
   "execution_count": 5,
   "metadata": {},
   "outputs": [
    {
     "name": "stdout",
     "output_type": "stream",
     "text": [
      "Epoch 1/5\n",
      "1875/1875 [==============================] - 12s 6ms/step - loss: 2.7321 - accuracy: 0.8583\n",
      "Epoch 2/5\n",
      "1875/1875 [==============================] - 14s 7ms/step - loss: 0.4098 - accuracy: 0.9086\n",
      "Epoch 3/5\n",
      "1875/1875 [==============================] - 12s 6ms/step - loss: 0.2948 - accuracy: 0.9284\n",
      "Epoch 4/5\n",
      "1875/1875 [==============================] - 10s 5ms/step - loss: 0.2560 - accuracy: 0.9374\n",
      "Epoch 5/5\n",
      "1875/1875 [==============================] - 11s 6ms/step - loss: 0.2311 - accuracy: 0.9434\n"
     ]
    },
    {
     "data": {
      "text/plain": [
       "<keras.src.callbacks.History at 0x283b4e43350>"
      ]
     },
     "execution_count": 5,
     "metadata": {},
     "output_type": "execute_result"
    }
   ],
   "source": [
    "model1 = tf.keras.Sequential( [\n",
    "    keras.layers.Flatten(input_shape =  (28,28)) ,# input layer - (60000 , 28 , 28) => (60000 , 784)\n",
    "    keras.layers.Dense( 100 , activation='relu') ,  ## (hidden layer , input layer)\n",
    "    keras.layers.Dense(  10  ,  activation='sigmoid') #(output layer)\n",
    "])\n",
    "\n",
    "# Generate Tenserboard logs for visualization\n",
    "tb_callbacks = tf.keras.callbacks.TensorBoard(log_dir = 'logs/optimizer_adam' , histogram_freq = 1)\n",
    "\n",
    "model1.compile( \n",
    "              optimizer='adam' ,\n",
    "              loss = 'sparse_categorical_crossentropy' ,\n",
    "              metrics = ['accuracy']\n",
    "              )\n",
    "model1.fit(X_train , y_train , epochs=5 , callbacks = [tb_callbacks])"
   ]
  },
  {
   "cell_type": "code",
   "execution_count": 8,
   "metadata": {},
   "outputs": [
    {
     "name": "stdout",
     "output_type": "stream",
     "text": [
      "Epoch 1/5\n",
      "1875/1875 [==============================] - 12s 6ms/step - loss: 31.8945 - accuracy: 0.1383\n",
      "Epoch 2/5\n",
      "1875/1875 [==============================] - 11s 6ms/step - loss: 2.2370 - accuracy: 0.1500\n",
      "Epoch 3/5\n",
      "1875/1875 [==============================] - 12s 6ms/step - loss: 2.2546 - accuracy: 0.1444\n",
      "Epoch 4/5\n",
      "1875/1875 [==============================] - 12s 6ms/step - loss: 2.2547 - accuracy: 0.1414\n",
      "Epoch 5/5\n",
      "1875/1875 [==============================] - 12s 6ms/step - loss: 2.3067 - accuracy: 0.1144\n"
     ]
    },
    {
     "data": {
      "text/plain": [
       "<keras.src.callbacks.History at 0x283bd3ee150>"
      ]
     },
     "execution_count": 8,
     "metadata": {},
     "output_type": "execute_result"
    }
   ],
   "source": [
    "model2 = keras.Sequential( [\n",
    "    keras.layers.Flatten(input_shape =  (28,28)) ,# input layer - (60000 , 28 , 28) => (60000 , 784)\n",
    "    keras.layers.Dense( 100 , activation='relu') ,  ## (hidden layer , input layer)\n",
    "    keras.layers.Dense(  10  ,  activation='sigmoid') #(output layer)\n",
    "])\n",
    "tb_callbacks = tf.keras.callbacks.TensorBoard(log_dir = 'logs/optimizer_SGD' , histogram_freq = 1)\n",
    "\n",
    "model2.compile( \n",
    "              optimizer='SGD' ,\n",
    "              loss = 'sparse_categorical_crossentropy' ,\n",
    "              metrics = ['accuracy']\n",
    "              )\n",
    "model2.fit(X_train , y_train , epochs=5,  callbacks = [tb_callbacks])"
   ]
  },
  {
   "cell_type": "code",
   "execution_count": 14,
   "metadata": {},
   "outputs": [
    {
     "name": "stdout",
     "output_type": "stream",
     "text": [
      "Epoch 1/5\n",
      "1875/1875 [==============================] - 11s 5ms/step - loss: 1.1056 - accuracy: 0.0987\n",
      "Epoch 2/5\n",
      "1875/1875 [==============================] - 10s 5ms/step - loss: 1.0000 - accuracy: 0.0987\n",
      "Epoch 3/5\n",
      "1875/1875 [==============================] - 10s 6ms/step - loss: 1.0000 - accuracy: 0.0987\n",
      "Epoch 4/5\n",
      "1875/1875 [==============================] - 10s 5ms/step - loss: 1.0000 - accuracy: 0.0987\n",
      "Epoch 5/5\n",
      "1875/1875 [==============================] - 10s 5ms/step - loss: 1.0000 - accuracy: 0.0987\n"
     ]
    },
    {
     "data": {
      "text/plain": [
       "<keras.src.callbacks.History at 0x283b50bbfd0>"
      ]
     },
     "execution_count": 14,
     "metadata": {},
     "output_type": "execute_result"
    }
   ],
   "source": [
    "model3 = keras.Sequential( [\n",
    "    keras.layers.Flatten(input_shape =  (28,28)) ,# input layer - (60000 , 28 , 28) => (60000 , 784)\n",
    "    keras.layers.Dense( 100 , activation='relu') ,  ## (hidden layer , input layer)\n",
    "    keras.layers.Dense(  10  ,  activation='sigmoid') #(output layer)\n",
    "])\n",
    "tb_callbacks = tf.keras.callbacks.TensorBoard(log_dir = 'logs/optimizer_adamax' , histogram_freq = 1)\n",
    "\n",
    "model3.compile( \n",
    "              optimizer='adam' ,\n",
    "              loss = 'sparse_categorical_crossentropy' ,\n",
    "              metrics = ['accuracy']\n",
    "              )\n",
    "model3.fit(X_train , y_train , epochs=5,  callbacks = [tb_callbacks])"
   ]
  },
  {
   "cell_type": "code",
   "execution_count": 11,
   "metadata": {},
   "outputs": [
    {
     "data": {
      "text/html": [
       "\n",
       "      <iframe id=\"tensorboard-frame-7258f68cde5dfc62\" width=\"100%\" height=\"800\" frameborder=\"0\">\n",
       "      </iframe>\n",
       "      <script>\n",
       "        (function() {\n",
       "          const frame = document.getElementById(\"tensorboard-frame-7258f68cde5dfc62\");\n",
       "          const url = new URL(\"/\", window.location);\n",
       "          const port = 6006;\n",
       "          if (port) {\n",
       "            url.port = port;\n",
       "          }\n",
       "          frame.src = url;\n",
       "        })();\n",
       "      </script>\n",
       "    "
      ],
      "text/plain": [
       "<IPython.core.display.HTML object>"
      ]
     },
     "metadata": {},
     "output_type": "display_data"
    }
   ],
   "source": [
    "%load_ext tensorboard\n",
    "%tensorboard --logdir logs/"
   ]
  },
  {
   "cell_type": "markdown",
   "metadata": {},
   "source": []
  }
 ],
 "metadata": {
  "kernelspec": {
   "display_name": "Python 3",
   "language": "python",
   "name": "python3"
  },
  "language_info": {
   "codemirror_mode": {
    "name": "ipython",
    "version": 3
   },
   "file_extension": ".py",
   "mimetype": "text/x-python",
   "name": "python",
   "nbconvert_exporter": "python",
   "pygments_lexer": "ipython3",
   "version": "3.11.4"
  },
  "orig_nbformat": 4
 },
 "nbformat": 4,
 "nbformat_minor": 2
}
