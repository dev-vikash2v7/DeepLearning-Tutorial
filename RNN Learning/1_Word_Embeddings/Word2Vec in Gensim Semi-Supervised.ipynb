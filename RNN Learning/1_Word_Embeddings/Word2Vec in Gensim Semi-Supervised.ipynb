{
 "cells": [
  {
   "cell_type": "code",
   "execution_count": 3,
   "metadata": {},
   "outputs": [],
   "source": [
    "import gensim\n",
    "import pandas as pd"
   ]
  },
  {
   "cell_type": "markdown",
   "metadata": {},
   "source": [
    "# Reading and Exploring the Dataset\n",
    "The dataset we are using here is a subset of Amazon reviews from the Cell Phones & Accessories category. The data is stored as a JSON file and can be read using pandas.\n",
    "\n",
    "Link to the Dataset:\n",
    "\n",
    "<a href='http://snap.stanford.edu/data/amazon/productGraph/categoryFiles/reviews_Cell_Phones_and_Accessories_5.json.gz'> http://snap.stanford.edu/data/amazon/productGraph/categoryFiles/reviews_Cell_Phones_and_Accessories_5.json.gz</a>"
   ]
  },
  {
   "cell_type": "code",
   "execution_count": 6,
   "metadata": {},
   "outputs": [],
   "source": [
    "# import gzip\n",
    "# with gzip.open('./reviews_Cell_Phones_and_Accessories_5.json.gz', 'rb') as gz_file:\n",
    "#     # Read the contents of the .gz file\n",
    "#     content = gz_file.read()\n",
    "\n",
    "# # Write the contents to the output file\n",
    "# with open('./Cell_Phones_and_Accessories_Reviews.json', 'wb') as output_file:\n",
    "#     output_file.write(content)"
   ]
  },
  {
   "cell_type": "code",
   "execution_count": 7,
   "metadata": {},
   "outputs": [
    {
     "data": {
      "text/html": [
       "<div>\n",
       "<style scoped>\n",
       "    .dataframe tbody tr th:only-of-type {\n",
       "        vertical-align: middle;\n",
       "    }\n",
       "\n",
       "    .dataframe tbody tr th {\n",
       "        vertical-align: top;\n",
       "    }\n",
       "\n",
       "    .dataframe thead th {\n",
       "        text-align: right;\n",
       "    }\n",
       "</style>\n",
       "<table border=\"1\" class=\"dataframe\">\n",
       "  <thead>\n",
       "    <tr style=\"text-align: right;\">\n",
       "      <th></th>\n",
       "      <th>reviewerID</th>\n",
       "      <th>asin</th>\n",
       "      <th>reviewerName</th>\n",
       "      <th>helpful</th>\n",
       "      <th>reviewText</th>\n",
       "      <th>overall</th>\n",
       "      <th>summary</th>\n",
       "      <th>unixReviewTime</th>\n",
       "      <th>reviewTime</th>\n",
       "    </tr>\n",
       "  </thead>\n",
       "  <tbody>\n",
       "    <tr>\n",
       "      <th>40964</th>\n",
       "      <td>A3SGA86CXLS14L</td>\n",
       "      <td>B004TBY6YW</td>\n",
       "      <td>fun cuber</td>\n",
       "      <td>[0, 0]</td>\n",
       "      <td>I have been looking for good quality single ea...</td>\n",
       "      <td>5</td>\n",
       "      <td>good</td>\n",
       "      <td>1370390400</td>\n",
       "      <td>06 5, 2013</td>\n",
       "    </tr>\n",
       "  </tbody>\n",
       "</table>\n",
       "</div>"
      ],
      "text/plain": [
       "           reviewerID        asin reviewerName helpful  \\\n",
       "40964  A3SGA86CXLS14L  B004TBY6YW    fun cuber  [0, 0]   \n",
       "\n",
       "                                              reviewText  overall summary  \\\n",
       "40964  I have been looking for good quality single ea...        5    good   \n",
       "\n",
       "       unixReviewTime  reviewTime  \n",
       "40964      1370390400  06 5, 2013  "
      ]
     },
     "execution_count": 7,
     "metadata": {},
     "output_type": "execute_result"
    }
   ],
   "source": [
    "df = pd.read_json(\"Cell_Phones_and_Accessories_Reviews.json\", lines=True)"
   ]
  },
  {
   "cell_type": "code",
   "execution_count": 8,
   "metadata": {},
   "outputs": [
    {
     "data": {
      "text/html": [
       "<div>\n",
       "<style scoped>\n",
       "    .dataframe tbody tr th:only-of-type {\n",
       "        vertical-align: middle;\n",
       "    }\n",
       "\n",
       "    .dataframe tbody tr th {\n",
       "        vertical-align: top;\n",
       "    }\n",
       "\n",
       "    .dataframe thead th {\n",
       "        text-align: right;\n",
       "    }\n",
       "</style>\n",
       "<table border=\"1\" class=\"dataframe\">\n",
       "  <thead>\n",
       "    <tr style=\"text-align: right;\">\n",
       "      <th></th>\n",
       "      <th>reviewerID</th>\n",
       "      <th>asin</th>\n",
       "      <th>reviewerName</th>\n",
       "      <th>helpful</th>\n",
       "      <th>reviewText</th>\n",
       "      <th>overall</th>\n",
       "      <th>summary</th>\n",
       "      <th>unixReviewTime</th>\n",
       "      <th>reviewTime</th>\n",
       "    </tr>\n",
       "  </thead>\n",
       "  <tbody>\n",
       "    <tr>\n",
       "      <th>140809</th>\n",
       "      <td>A29EAOP4EI5DAQ</td>\n",
       "      <td>B00AG6NSNO</td>\n",
       "      <td>PharoahzenRob</td>\n",
       "      <td>[0, 0]</td>\n",
       "      <td>I bought this to bring my old shelf system bac...</td>\n",
       "      <td>4</td>\n",
       "      <td>My old system lives!</td>\n",
       "      <td>1399248000</td>\n",
       "      <td>05 5, 2014</td>\n",
       "    </tr>\n",
       "    <tr>\n",
       "      <th>59403</th>\n",
       "      <td>A2CRCLLI3R9OUK</td>\n",
       "      <td>B005SKGJX4</td>\n",
       "      <td>Doncheial</td>\n",
       "      <td>[0, 0]</td>\n",
       "      <td>For the price you can't complain and I only ha...</td>\n",
       "      <td>4</td>\n",
       "      <td>Great Price, Can't Complain...</td>\n",
       "      <td>1390176000</td>\n",
       "      <td>01 20, 2014</td>\n",
       "    </tr>\n",
       "    <tr>\n",
       "      <th>55698</th>\n",
       "      <td>AKMQ4GM0YRD89</td>\n",
       "      <td>B005LFXBJG</td>\n",
       "      <td>Adam Turney</td>\n",
       "      <td>[0, 0]</td>\n",
       "      <td>I bought this for my Motorola RAZR M phone bec...</td>\n",
       "      <td>5</td>\n",
       "      <td>Perfect Charger</td>\n",
       "      <td>1393545600</td>\n",
       "      <td>02 28, 2014</td>\n",
       "    </tr>\n",
       "    <tr>\n",
       "      <th>50488</th>\n",
       "      <td>A2K97VU88RR9Y4</td>\n",
       "      <td>B005C66O2A</td>\n",
       "      <td>Jake</td>\n",
       "      <td>[0, 0]</td>\n",
       "      <td>I use the phone all day and it is nice having ...</td>\n",
       "      <td>3</td>\n",
       "      <td>Great value</td>\n",
       "      <td>1354147200</td>\n",
       "      <td>11 29, 2012</td>\n",
       "    </tr>\n",
       "    <tr>\n",
       "      <th>99418</th>\n",
       "      <td>A32TII5IOQNG1Y</td>\n",
       "      <td>B008D4X4GW</td>\n",
       "      <td>johnathon j johnson</td>\n",
       "      <td>[0, 0]</td>\n",
       "      <td>It allows for easy case removal and a light gr...</td>\n",
       "      <td>4</td>\n",
       "      <td>Not bad at all.</td>\n",
       "      <td>1388016000</td>\n",
       "      <td>12 26, 2013</td>\n",
       "    </tr>\n",
       "  </tbody>\n",
       "</table>\n",
       "</div>"
      ],
      "text/plain": [
       "            reviewerID        asin         reviewerName helpful  \\\n",
       "140809  A29EAOP4EI5DAQ  B00AG6NSNO        PharoahzenRob  [0, 0]   \n",
       "59403   A2CRCLLI3R9OUK  B005SKGJX4            Doncheial  [0, 0]   \n",
       "55698    AKMQ4GM0YRD89  B005LFXBJG          Adam Turney  [0, 0]   \n",
       "50488   A2K97VU88RR9Y4  B005C66O2A                 Jake  [0, 0]   \n",
       "99418   A32TII5IOQNG1Y  B008D4X4GW  johnathon j johnson  [0, 0]   \n",
       "\n",
       "                                               reviewText  overall  \\\n",
       "140809  I bought this to bring my old shelf system bac...        4   \n",
       "59403   For the price you can't complain and I only ha...        4   \n",
       "55698   I bought this for my Motorola RAZR M phone bec...        5   \n",
       "50488   I use the phone all day and it is nice having ...        3   \n",
       "99418   It allows for easy case removal and a light gr...        4   \n",
       "\n",
       "                               summary  unixReviewTime   reviewTime  \n",
       "140809            My old system lives!      1399248000   05 5, 2014  \n",
       "59403   Great Price, Can't Complain...      1390176000  01 20, 2014  \n",
       "55698                  Perfect Charger      1393545600  02 28, 2014  \n",
       "50488                      Great value      1354147200  11 29, 2012  \n",
       "99418                  Not bad at all.      1388016000  12 26, 2013  "
      ]
     },
     "execution_count": 8,
     "metadata": {},
     "output_type": "execute_result"
    }
   ],
   "source": [
    "df.sample(5)\n"
   ]
  },
  {
   "cell_type": "code",
   "execution_count": 9,
   "metadata": {},
   "outputs": [
    {
     "data": {
      "text/plain": [
       "(194439, 9)"
      ]
     },
     "execution_count": 9,
     "metadata": {},
     "output_type": "execute_result"
    }
   ],
   "source": [
    "df.shape"
   ]
  },
  {
   "cell_type": "markdown",
   "metadata": {},
   "source": [
    "# Simple Preprocessing & Tokenization\n",
    "The first thing to do for any data science task is to clean the data. For NLP, we apply various processing like converting all the words to lower case, trimming spaces, removing punctuations. This is something we will do over here too.\n",
    "\n",
    "Additionally, we can also remove stop words like 'and', 'or', 'is', 'the', 'a', 'an' and convert words to their root forms like 'running' to 'run'.\n"
   ]
  },
  {
   "cell_type": "code",
   "execution_count": 10,
   "metadata": {},
   "outputs": [
    {
     "data": {
      "text/plain": [
       "0    [they, look, good, and, stick, good, just, don...\n",
       "1    [these, stickers, work, like, the, review, say...\n",
       "2    [these, are, awesome, and, make, my, phone, lo...\n",
       "3    [item, arrived, in, great, time, and, was, in,...\n",
       "4    [awesome, stays, on, and, looks, great, can, b...\n",
       "Name: reviewText, dtype: object"
      ]
     },
     "execution_count": 10,
     "metadata": {},
     "output_type": "execute_result"
    }
   ],
   "source": [
    "\n",
    "review_text = df.reviewText.apply(gensim.utils.simple_preprocess)\n",
    "review_text[:5]"
   ]
  },
  {
   "cell_type": "code",
   "execution_count": 14,
   "metadata": {},
   "outputs": [
    {
     "data": {
      "text/plain": [
       "['they',\n",
       " 'look',\n",
       " 'good',\n",
       " 'and',\n",
       " 'stick',\n",
       " 'good',\n",
       " 'just',\n",
       " 'don',\n",
       " 'like',\n",
       " 'the',\n",
       " 'rounded',\n",
       " 'shape',\n",
       " 'because',\n",
       " 'was',\n",
       " 'always',\n",
       " 'bumping',\n",
       " 'it',\n",
       " 'and',\n",
       " 'siri',\n",
       " 'kept',\n",
       " 'popping',\n",
       " 'up',\n",
       " 'and',\n",
       " 'it',\n",
       " 'was',\n",
       " 'irritating',\n",
       " 'just',\n",
       " 'won',\n",
       " 'buy',\n",
       " 'product',\n",
       " 'like',\n",
       " 'this',\n",
       " 'again']"
      ]
     },
     "execution_count": 14,
     "metadata": {},
     "output_type": "execute_result"
    }
   ],
   "source": [
    "review_text.iloc[0]"
   ]
  },
  {
   "cell_type": "code",
   "execution_count": 13,
   "metadata": {},
   "outputs": [
    {
     "data": {
      "text/plain": [
       "\"They look good and stick good! I just don't like the rounded shape because I was always bumping it and Siri kept popping up and it was irritating. I just won't buy a product like this again\""
      ]
     },
     "execution_count": 13,
     "metadata": {},
     "output_type": "execute_result"
    }
   ],
   "source": [
    "df.reviewText[0]"
   ]
  },
  {
   "cell_type": "markdown",
   "metadata": {},
   "source": [
    "# Training the Word2Vec Model\n",
    "Train the model for reviews. Use a window of size 10 i.e. 10 words before the present word and 10 words ahead. A sentence with at least 2 words should only be considered, configure this using min_count parameter.\n",
    "\n",
    "Workers define how many CPU threads to be used."
   ]
  },
  {
   "cell_type": "markdown",
   "metadata": {},
   "source": [
    "<b>Initialize the model</b>\n",
    "\n"
   ]
  },
  {
   "cell_type": "code",
   "execution_count": 15,
   "metadata": {},
   "outputs": [],
   "source": [
    "model = gensim.models.Word2Vec(\n",
    "    window=10,\n",
    "    min_count=2,\n",
    "    workers=4,\n",
    ")"
   ]
  },
  {
   "cell_type": "markdown",
   "metadata": {},
   "source": [
    "<b>Build Vocabulary</b>\n",
    "\n"
   ]
  },
  {
   "cell_type": "code",
   "execution_count": 16,
   "metadata": {},
   "outputs": [],
   "source": [
    "model.build_vocab(review_text, progress_per=1000)\n"
   ]
  },
  {
   "cell_type": "markdown",
   "metadata": {},
   "source": [
    "<b>Train the Word2Vec Model</b>\n"
   ]
  },
  {
   "cell_type": "code",
   "execution_count": 23,
   "metadata": {},
   "outputs": [
    {
     "data": {
      "text/plain": [
       "(16036334, 21792175)"
      ]
     },
     "execution_count": 23,
     "metadata": {},
     "output_type": "execute_result"
    }
   ],
   "source": [
    "model.train(review_text[:50000], total_examples=model.corpus_count, epochs=model.epochs)"
   ]
  },
  {
   "cell_type": "markdown",
   "metadata": {},
   "source": [
    "Save the Model\n",
    "Save the model so that it can be reused in other applications"
   ]
  },
  {
   "cell_type": "code",
   "execution_count": 34,
   "metadata": {},
   "outputs": [],
   "source": [
    "model.save(\"./word2vec-amazon-cell-accessories-reviews-short.model\")"
   ]
  },
  {
   "cell_type": "code",
   "execution_count": 35,
   "metadata": {},
   "outputs": [
    {
     "data": {
      "text/plain": [
       "[('terrible', 0.6641182899475098),\n",
       " ('shabby', 0.6113999485969543),\n",
       " ('good', 0.5968520045280457),\n",
       " ('horrible', 0.5547590851783752),\n",
       " ('awful', 0.5219196081161499),\n",
       " ('poor', 0.5087665319442749),\n",
       " ('sad', 0.5069642066955566),\n",
       " ('funny', 0.490601509809494),\n",
       " ('legit', 0.4825233817100525),\n",
       " ('crappy', 0.47718724608421326)]"
      ]
     },
     "execution_count": 35,
     "metadata": {},
     "output_type": "execute_result"
    }
   ],
   "source": [
    "model.wv.most_similar(\"bad\")"
   ]
  },
  {
   "cell_type": "code",
   "execution_count": 22,
   "metadata": {},
   "outputs": [
    {
     "data": {
      "text/plain": [
       "[('rave', 0.6440388560295105),\n",
       " ('positive', 0.6153465509414673),\n",
       " ('raving', 0.5430460572242737),\n",
       " ('cnet', 0.5405381917953491),\n",
       " ('favorable', 0.529464840888977),\n",
       " ('complaining', 0.5181417465209961),\n",
       " ('pcmag', 0.5136297345161438),\n",
       " ('leery', 0.5130190253257751),\n",
       " ('posted', 0.5035485625267029),\n",
       " ('stories', 0.49264267086982727)]"
      ]
     },
     "execution_count": 22,
     "metadata": {},
     "output_type": "execute_result"
    }
   ],
   "source": [
    "model.wv.most_similar(\"mixed\")"
   ]
  },
  {
   "cell_type": "code",
   "execution_count": 36,
   "metadata": {},
   "outputs": [
    {
     "data": {
      "text/plain": [
       "0.59198886"
      ]
     },
     "execution_count": 36,
     "metadata": {},
     "output_type": "execute_result"
    }
   ],
   "source": [
    "model.wv.similarity(w1=\"cheap\", w2=\"inexpensive\")"
   ]
  },
  {
   "cell_type": "code",
   "execution_count": 37,
   "metadata": {},
   "outputs": [
    {
     "data": {
      "text/plain": [
       "0.7403073"
      ]
     },
     "execution_count": 37,
     "metadata": {},
     "output_type": "execute_result"
    }
   ],
   "source": [
    "model.wv.similarity(w1=\"great\", w2=\"good\")\n"
   ]
  },
  {
   "cell_type": "code",
   "execution_count": 30,
   "metadata": {},
   "outputs": [
    {
     "data": {
      "text/plain": [
       "-0.10269565"
      ]
     },
     "execution_count": 30,
     "metadata": {},
     "output_type": "execute_result"
    }
   ],
   "source": [
    "model.wv.similarity(w1=\"mountain\", w2=\"good\")\n"
   ]
  }
 ],
 "metadata": {
  "kernelspec": {
   "display_name": "Python 3",
   "language": "python",
   "name": "python3"
  },
  "language_info": {
   "codemirror_mode": {
    "name": "ipython",
    "version": 3
   },
   "file_extension": ".py",
   "mimetype": "text/x-python",
   "name": "python",
   "nbconvert_exporter": "python",
   "pygments_lexer": "ipython3",
   "version": "3.11.4"
  },
  "orig_nbformat": 4
 },
 "nbformat": 4,
 "nbformat_minor": 2
}
